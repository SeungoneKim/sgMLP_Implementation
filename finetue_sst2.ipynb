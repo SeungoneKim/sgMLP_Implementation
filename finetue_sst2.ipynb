{
  "nbformat": 4,
  "nbformat_minor": 0,
  "metadata": {
    "colab": {
      "name": "finetue_sst2.ipynb",
      "provenance": [],
      "collapsed_sections": [],
      "machine_shape": "hm",
      "mount_file_id": "1VqnXvRVB6DS9ofdcdwpX_uv4UFyetiOU",
      "authorship_tag": "ABX9TyNNoJz0KWRhUms1Du73odYe",
      "include_colab_link": true
    },
    "kernelspec": {
      "name": "python3",
      "display_name": "Python 3"
    },
    "language_info": {
      "name": "python"
    },
    "accelerator": "GPU",
    "widgets": {
      "application/vnd.jupyter.widget-state+json": {
        "f7ee8c4a57b347caafe05915a26eb882": {
          "model_module": "@jupyter-widgets/controls",
          "model_name": "HBoxModel",
          "model_module_version": "1.5.0",
          "state": {
            "_view_name": "HBoxView",
            "_dom_classes": [],
            "_model_name": "HBoxModel",
            "_view_module": "@jupyter-widgets/controls",
            "_model_module_version": "1.5.0",
            "_view_count": null,
            "_view_module_version": "1.5.0",
            "box_style": "",
            "layout": "IPY_MODEL_cb44cffb67eb493db6455b92bd1c0b95",
            "_model_module": "@jupyter-widgets/controls",
            "children": [
              "IPY_MODEL_6e321cf19eb8474d909e8f32078a2510",
              "IPY_MODEL_218022fa3d9d4092a634c9d38fac4b1d",
              "IPY_MODEL_4222bcf177b74213922bade440334316"
            ]
          }
        },
        "cb44cffb67eb493db6455b92bd1c0b95": {
          "model_module": "@jupyter-widgets/base",
          "model_name": "LayoutModel",
          "model_module_version": "1.2.0",
          "state": {
            "_view_name": "LayoutView",
            "grid_template_rows": null,
            "right": null,
            "justify_content": null,
            "_view_module": "@jupyter-widgets/base",
            "overflow": null,
            "_model_module_version": "1.2.0",
            "_view_count": null,
            "flex_flow": null,
            "width": null,
            "min_width": null,
            "border": null,
            "align_items": null,
            "bottom": null,
            "_model_module": "@jupyter-widgets/base",
            "top": null,
            "grid_column": null,
            "overflow_y": null,
            "overflow_x": null,
            "grid_auto_flow": null,
            "grid_area": null,
            "grid_template_columns": null,
            "flex": null,
            "_model_name": "LayoutModel",
            "justify_items": null,
            "grid_row": null,
            "max_height": null,
            "align_content": null,
            "visibility": null,
            "align_self": null,
            "height": null,
            "min_height": null,
            "padding": null,
            "grid_auto_rows": null,
            "grid_gap": null,
            "max_width": null,
            "order": null,
            "_view_module_version": "1.2.0",
            "grid_template_areas": null,
            "object_position": null,
            "object_fit": null,
            "grid_auto_columns": null,
            "margin": null,
            "display": null,
            "left": null
          }
        },
        "6e321cf19eb8474d909e8f32078a2510": {
          "model_module": "@jupyter-widgets/controls",
          "model_name": "HTMLModel",
          "model_module_version": "1.5.0",
          "state": {
            "_view_name": "HTMLView",
            "style": "IPY_MODEL_8db6e244f08b4ea299dc2cb2125fe697",
            "_dom_classes": [],
            "description": "",
            "_model_name": "HTMLModel",
            "placeholder": "​",
            "_view_module": "@jupyter-widgets/controls",
            "_model_module_version": "1.5.0",
            "value": "100%",
            "_view_count": null,
            "_view_module_version": "1.5.0",
            "description_tooltip": null,
            "_model_module": "@jupyter-widgets/controls",
            "layout": "IPY_MODEL_570c8c3d380c4ee2bd51b63b12280257"
          }
        },
        "218022fa3d9d4092a634c9d38fac4b1d": {
          "model_module": "@jupyter-widgets/controls",
          "model_name": "FloatProgressModel",
          "model_module_version": "1.5.0",
          "state": {
            "_view_name": "ProgressView",
            "style": "IPY_MODEL_ac1a646c5bee4ae392d482c5b0f96c85",
            "_dom_classes": [],
            "description": "",
            "_model_name": "FloatProgressModel",
            "bar_style": "success",
            "max": 1,
            "_view_module": "@jupyter-widgets/controls",
            "_model_module_version": "1.5.0",
            "value": 1,
            "_view_count": null,
            "_view_module_version": "1.5.0",
            "orientation": "horizontal",
            "min": 0,
            "description_tooltip": null,
            "_model_module": "@jupyter-widgets/controls",
            "layout": "IPY_MODEL_0b3c59fe2d184c62ba0b93f7270fb784"
          }
        },
        "4222bcf177b74213922bade440334316": {
          "model_module": "@jupyter-widgets/controls",
          "model_name": "HTMLModel",
          "model_module_version": "1.5.0",
          "state": {
            "_view_name": "HTMLView",
            "style": "IPY_MODEL_818fea500f7c45bdbb8200a022bbcac4",
            "_dom_classes": [],
            "description": "",
            "_model_name": "HTMLModel",
            "placeholder": "​",
            "_view_module": "@jupyter-widgets/controls",
            "_model_module_version": "1.5.0",
            "value": " 1/1 [00:00&lt;00:00, 13.57ba/s]",
            "_view_count": null,
            "_view_module_version": "1.5.0",
            "description_tooltip": null,
            "_model_module": "@jupyter-widgets/controls",
            "layout": "IPY_MODEL_f683532d73644b9fa870b98514b02226"
          }
        },
        "8db6e244f08b4ea299dc2cb2125fe697": {
          "model_module": "@jupyter-widgets/controls",
          "model_name": "DescriptionStyleModel",
          "model_module_version": "1.5.0",
          "state": {
            "_view_name": "StyleView",
            "_model_name": "DescriptionStyleModel",
            "description_width": "",
            "_view_module": "@jupyter-widgets/base",
            "_model_module_version": "1.5.0",
            "_view_count": null,
            "_view_module_version": "1.2.0",
            "_model_module": "@jupyter-widgets/controls"
          }
        },
        "570c8c3d380c4ee2bd51b63b12280257": {
          "model_module": "@jupyter-widgets/base",
          "model_name": "LayoutModel",
          "model_module_version": "1.2.0",
          "state": {
            "_view_name": "LayoutView",
            "grid_template_rows": null,
            "right": null,
            "justify_content": null,
            "_view_module": "@jupyter-widgets/base",
            "overflow": null,
            "_model_module_version": "1.2.0",
            "_view_count": null,
            "flex_flow": null,
            "width": null,
            "min_width": null,
            "border": null,
            "align_items": null,
            "bottom": null,
            "_model_module": "@jupyter-widgets/base",
            "top": null,
            "grid_column": null,
            "overflow_y": null,
            "overflow_x": null,
            "grid_auto_flow": null,
            "grid_area": null,
            "grid_template_columns": null,
            "flex": null,
            "_model_name": "LayoutModel",
            "justify_items": null,
            "grid_row": null,
            "max_height": null,
            "align_content": null,
            "visibility": null,
            "align_self": null,
            "height": null,
            "min_height": null,
            "padding": null,
            "grid_auto_rows": null,
            "grid_gap": null,
            "max_width": null,
            "order": null,
            "_view_module_version": "1.2.0",
            "grid_template_areas": null,
            "object_position": null,
            "object_fit": null,
            "grid_auto_columns": null,
            "margin": null,
            "display": null,
            "left": null
          }
        },
        "ac1a646c5bee4ae392d482c5b0f96c85": {
          "model_module": "@jupyter-widgets/controls",
          "model_name": "ProgressStyleModel",
          "model_module_version": "1.5.0",
          "state": {
            "_view_name": "StyleView",
            "_model_name": "ProgressStyleModel",
            "description_width": "",
            "_view_module": "@jupyter-widgets/base",
            "_model_module_version": "1.5.0",
            "_view_count": null,
            "_view_module_version": "1.2.0",
            "bar_color": null,
            "_model_module": "@jupyter-widgets/controls"
          }
        },
        "0b3c59fe2d184c62ba0b93f7270fb784": {
          "model_module": "@jupyter-widgets/base",
          "model_name": "LayoutModel",
          "model_module_version": "1.2.0",
          "state": {
            "_view_name": "LayoutView",
            "grid_template_rows": null,
            "right": null,
            "justify_content": null,
            "_view_module": "@jupyter-widgets/base",
            "overflow": null,
            "_model_module_version": "1.2.0",
            "_view_count": null,
            "flex_flow": null,
            "width": null,
            "min_width": null,
            "border": null,
            "align_items": null,
            "bottom": null,
            "_model_module": "@jupyter-widgets/base",
            "top": null,
            "grid_column": null,
            "overflow_y": null,
            "overflow_x": null,
            "grid_auto_flow": null,
            "grid_area": null,
            "grid_template_columns": null,
            "flex": null,
            "_model_name": "LayoutModel",
            "justify_items": null,
            "grid_row": null,
            "max_height": null,
            "align_content": null,
            "visibility": null,
            "align_self": null,
            "height": null,
            "min_height": null,
            "padding": null,
            "grid_auto_rows": null,
            "grid_gap": null,
            "max_width": null,
            "order": null,
            "_view_module_version": "1.2.0",
            "grid_template_areas": null,
            "object_position": null,
            "object_fit": null,
            "grid_auto_columns": null,
            "margin": null,
            "display": null,
            "left": null
          }
        },
        "818fea500f7c45bdbb8200a022bbcac4": {
          "model_module": "@jupyter-widgets/controls",
          "model_name": "DescriptionStyleModel",
          "model_module_version": "1.5.0",
          "state": {
            "_view_name": "StyleView",
            "_model_name": "DescriptionStyleModel",
            "description_width": "",
            "_view_module": "@jupyter-widgets/base",
            "_model_module_version": "1.5.0",
            "_view_count": null,
            "_view_module_version": "1.2.0",
            "_model_module": "@jupyter-widgets/controls"
          }
        },
        "f683532d73644b9fa870b98514b02226": {
          "model_module": "@jupyter-widgets/base",
          "model_name": "LayoutModel",
          "model_module_version": "1.2.0",
          "state": {
            "_view_name": "LayoutView",
            "grid_template_rows": null,
            "right": null,
            "justify_content": null,
            "_view_module": "@jupyter-widgets/base",
            "overflow": null,
            "_model_module_version": "1.2.0",
            "_view_count": null,
            "flex_flow": null,
            "width": null,
            "min_width": null,
            "border": null,
            "align_items": null,
            "bottom": null,
            "_model_module": "@jupyter-widgets/base",
            "top": null,
            "grid_column": null,
            "overflow_y": null,
            "overflow_x": null,
            "grid_auto_flow": null,
            "grid_area": null,
            "grid_template_columns": null,
            "flex": null,
            "_model_name": "LayoutModel",
            "justify_items": null,
            "grid_row": null,
            "max_height": null,
            "align_content": null,
            "visibility": null,
            "align_self": null,
            "height": null,
            "min_height": null,
            "padding": null,
            "grid_auto_rows": null,
            "grid_gap": null,
            "max_width": null,
            "order": null,
            "_view_module_version": "1.2.0",
            "grid_template_areas": null,
            "object_position": null,
            "object_fit": null,
            "grid_auto_columns": null,
            "margin": null,
            "display": null,
            "left": null
          }
        }
      }
    }
  },
  "cells": [
    {
      "cell_type": "markdown",
      "metadata": {
        "id": "view-in-github",
        "colab_type": "text"
      },
      "source": [
        "<a href=\"https://colab.research.google.com/github/guijinSON/sgMLP_Implementation/blob/main/finetue_sst2.ipynb\" target=\"_parent\"><img src=\"https://colab.research.google.com/assets/colab-badge.svg\" alt=\"Open In Colab\"/></a>"
      ]
    },
    {
      "cell_type": "code",
      "metadata": {
        "id": "toynPngFc1Z_"
      },
      "source": [
        "%%capture\n",
        "!pip install transformers\n",
        "!pip install datasets\n",
        "!git clone https://github.com/guijinSON/sgMLP_Implementation.git"
      ],
      "execution_count": null,
      "outputs": []
    },
    {
      "cell_type": "code",
      "metadata": {
        "id": "raBwyLFLcHM4"
      },
      "source": [
        "import torch\n",
        "import torch.nn as nn\n",
        "from torch.optim.lr_scheduler import StepLR\n",
        "import os \n",
        "from datasets import load_dataset\n",
        "from tqdm import tqdm\n",
        "from transformers import AutoTokenizer\n",
        "os.chdir('/content/sgMLP_Implementation')\n",
        "#print(os.listdir())\n",
        "#from CLS_model.model import build_model\n",
        "from models.model import build_model"
      ],
      "execution_count": null,
      "outputs": []
    },
    {
      "cell_type": "code",
      "metadata": {
        "id": "zZSG0759cSDH"
      },
      "source": [
        "%%capture\n",
        "tokenizer = AutoTokenizer.from_pretrained('bert-base-cased')\n",
        "train_dataset = load_dataset('glue', 'sst2', split='train')\n",
        "val_dataset = load_dataset('glue', 'sst2', split='validation')\n"
      ],
      "execution_count": null,
      "outputs": []
    },
    {
      "cell_type": "code",
      "metadata": {
        "id": "eW9BNwI4cntI",
        "colab": {
          "base_uri": "https://localhost:8080/",
          "height": 86,
          "referenced_widgets": [
            "f7ee8c4a57b347caafe05915a26eb882",
            "cb44cffb67eb493db6455b92bd1c0b95",
            "6e321cf19eb8474d909e8f32078a2510",
            "218022fa3d9d4092a634c9d38fac4b1d",
            "4222bcf177b74213922bade440334316",
            "8db6e244f08b4ea299dc2cb2125fe697",
            "570c8c3d380c4ee2bd51b63b12280257",
            "ac1a646c5bee4ae392d482c5b0f96c85",
            "0b3c59fe2d184c62ba0b93f7270fb784",
            "818fea500f7c45bdbb8200a022bbcac4",
            "f683532d73644b9fa870b98514b02226"
          ]
        },
        "outputId": "0632bd25-bf38-4b64-fe55-cdbfa7a271dd"
      },
      "source": [
        "device = torch.device('cuda:0')\n",
        "\n",
        "train_dataset = train_dataset.map(lambda e: tokenizer(e['sentence'],max_length=64,truncation=True, padding='max_length'), batched=True)\n",
        "train_dataset.set_format(type='torch', columns=['input_ids', 'token_type_ids', 'label'])\n",
        "train_dataloader = torch.utils.data.DataLoader(train_dataset, batch_size=64, shuffle=True)\n",
        "\n",
        "val_dataset = val_dataset.map(lambda e: tokenizer(e['sentence'],max_length=64,truncation=True, padding='max_length'), batched=True)\n",
        "val_dataset.set_format(type='torch', columns=['input_ids', 'token_type_ids', 'label'])\n",
        "val_dataloader = torch.utils.data.DataLoader(val_dataset, batch_size=64, shuffle =True)"
      ],
      "execution_count": null,
      "outputs": [
        {
          "output_type": "stream",
          "name": "stderr",
          "text": [
            "Loading cached processed dataset at /root/.cache/huggingface/datasets/glue/sst2/1.0.0/dacbe3125aa31d7f70367a07a8a9e72a5a0bfeb5fc42e75c9db75b96da6053ad/cache-05772391df13fcad.arrow\n"
          ]
        },
        {
          "output_type": "display_data",
          "data": {
            "application/vnd.jupyter.widget-view+json": {
              "model_id": "f7ee8c4a57b347caafe05915a26eb882",
              "version_minor": 0,
              "version_major": 2
            },
            "text/plain": [
              "  0%|          | 0/1 [00:00<?, ?ba/s]"
            ]
          },
          "metadata": {}
        }
      ]
    },
    {
      "cell_type": "code",
      "metadata": {
        "id": "7sRSW7WU_mNk"
      },
      "source": [
        "class SST2_head(nn.Module):\n",
        "    def __init__(self,device):\n",
        "        super(SST2_head,self).__init__()\n",
        "        self.pooler = nn.Linear(512,512).to(device)\n",
        "        self.projection = nn.Sequential(nn.Linear(512,512*2),\n",
        "                                        nn.ReLU(),\n",
        "                                        nn.Linear(512*2,1)).to(device)\n",
        "        self.layernorm = nn.LayerNorm(512).to(device)\n",
        "        self.sigmoid = nn.Sigmoid()\n",
        "\n",
        "        self.model = self.load_model().to(device)\n",
        "\n",
        "    def forward(self,input_ids,token_type_ids):\n",
        "        input = self.model(input_ids,token_type_ids)[:,0]\n",
        "        input = torch.tanh(self.pooler(input))\n",
        "        input = self.layernorm(input)\n",
        "        output = self.projection(input)\n",
        "        return self.sigmoid(output)\n",
        "\n",
        "    def load_model(self):\n",
        "        model = build_model(tokenizer.vocab_size,512,2048,64,12,device='cuda:0',output_logits=False)\n",
        "        os.chdir('/content/drive/Shareddrives/ICT/weights/')\n",
        "        weight = torch.load('iter_110000.pth',map_location=torch.device('cuda:0'))['model_state_dict']\n",
        "        model_weight = {}\n",
        "        for key,val in weight.items():\n",
        "            if key.startswith('module.'):\n",
        "                model_weight[key[7:]] = val\n",
        "            else:\n",
        "                print(key)\n",
        "\n",
        "        model.load_state_dict(model_weight)\n",
        "        return model\n"
      ],
      "execution_count": null,
      "outputs": []
    },
    {
      "cell_type": "code",
      "metadata": {
        "colab": {
          "base_uri": "https://localhost:8080/"
        },
        "id": "y7oCSNDk_2bt",
        "outputId": "83859156-307e-4728-aaab-23159c6d7fef"
      },
      "source": [
        "sst2_model = SST2_head('cuda:0')\n",
        "epochs = 10 \n",
        "loss_func = nn.BCELoss(reduction='mean')\n",
        "opt = torch.optim.Adam(sst2_model.parameters(),lr=5e-5)\n",
        "scheduler = StepLR(opt, step_size=2000, gamma=0.5)\n",
        "step = 0\n",
        "for iteration in range(epochs):\n",
        "    losses = []\n",
        "    loss = 0\n",
        "    for batch in tqdm(train_dataloader):\n",
        "        input_ids = batch['input_ids'].to(device)\n",
        "        token_ids = batch['token_type_ids'].to(device)\n",
        "        label = batch['label'].type(torch.FloatTensor).to(device)\n",
        "        \n",
        "        opt.zero_grad()\n",
        "\n",
        "        pred = sst2_model(input_ids,token_ids).squeeze()\n",
        "        loss = loss_func(pred,label)\n",
        "\n",
        "       \n",
        "        loss.backward()\n",
        "        opt.step()\n",
        "        scheduler.step()\n",
        "\n",
        "        losses.append(loss.detach().item())\n",
        "\n",
        "        if step%500 ==0:\n",
        "            sst2_model.eval()\n",
        "            with torch.no_grad():\n",
        "                accuracy = 0\n",
        "                tot = 0\n",
        "                for val_batch in val_dataloader:\n",
        "                    input_ids = val_batch['input_ids'].to(device)\n",
        "                    token_ids = val_batch['token_type_ids'].to(device)\n",
        "                    label = val_batch['label'].type(torch.FloatTensor).to(device)\n",
        "\n",
        "                    pred = sst2_model(input_ids,token_ids).squeeze()\n",
        "                    acc = torch.tensor([1 if n >0.5 else 0 for n in pred]).to(device)\n",
        "                    accuracy += torch.sum(acc==label)\n",
        "                    tot += len(label)\n",
        "\n",
        "                print(f'{iteration} Epoch Running | {step} Step | Loss: {loss.detach().item():.3f} | Accuracy: {accuracy/tot*100 :.2f}')\n",
        "            sst2_model.train()\n",
        "\n",
        "        step+=1 \n",
        "\n"
      ],
      "execution_count": null,
      "outputs": [
        {
          "output_type": "stream",
          "name": "stderr",
          "text": [
            "  0%|          | 2/1053 [00:01<08:22,  2.09it/s]"
          ]
        },
        {
          "output_type": "stream",
          "name": "stdout",
          "text": [
            "0 Epoch Running | 0 Step | Loss: 0.680 | Accuracy: 51.03\n"
          ]
        },
        {
          "output_type": "stream",
          "name": "stderr",
          "text": [
            " 48%|████▊     | 502/1053 [01:10<02:44,  3.35it/s]"
          ]
        },
        {
          "output_type": "stream",
          "name": "stdout",
          "text": [
            "0 Epoch Running | 500 Step | Loss: 0.449 | Accuracy: 74.54\n"
          ]
        },
        {
          "output_type": "stream",
          "name": "stderr",
          "text": [
            " 95%|█████████▌| 1002/1053 [02:20<00:15,  3.34it/s]"
          ]
        },
        {
          "output_type": "stream",
          "name": "stdout",
          "text": [
            "0 Epoch Running | 1000 Step | Loss: 0.636 | Accuracy: 74.89\n"
          ]
        },
        {
          "output_type": "stream",
          "name": "stderr",
          "text": [
            "100%|██████████| 1053/1053 [02:27<00:00,  7.14it/s]\n",
            " 43%|████▎     | 449/1053 [01:02<03:01,  3.32it/s]"
          ]
        },
        {
          "output_type": "stream",
          "name": "stdout",
          "text": [
            "1 Epoch Running | 1500 Step | Loss: 0.186 | Accuracy: 78.78\n"
          ]
        },
        {
          "output_type": "stream",
          "name": "stderr",
          "text": [
            " 90%|█████████ | 949/1053 [02:12<00:31,  3.33it/s]"
          ]
        },
        {
          "output_type": "stream",
          "name": "stdout",
          "text": [
            "1 Epoch Running | 2000 Step | Loss: 0.224 | Accuracy: 79.82\n"
          ]
        },
        {
          "output_type": "stream",
          "name": "stderr",
          "text": [
            "100%|██████████| 1053/1053 [02:27<00:00,  7.16it/s]\n",
            " 38%|███▊      | 396/1053 [00:55<03:17,  3.32it/s]"
          ]
        },
        {
          "output_type": "stream",
          "name": "stdout",
          "text": [
            "2 Epoch Running | 2500 Step | Loss: 0.194 | Accuracy: 80.50\n"
          ]
        },
        {
          "output_type": "stream",
          "name": "stderr",
          "text": [
            " 85%|████████▌ | 896/1053 [02:05<00:47,  3.33it/s]"
          ]
        },
        {
          "output_type": "stream",
          "name": "stdout",
          "text": [
            "2 Epoch Running | 3000 Step | Loss: 0.197 | Accuracy: 80.85\n"
          ]
        },
        {
          "output_type": "stream",
          "name": "stderr",
          "text": [
            "100%|██████████| 1053/1053 [02:27<00:00,  7.16it/s]\n",
            " 33%|███▎      | 343/1053 [00:47<03:30,  3.38it/s]"
          ]
        },
        {
          "output_type": "stream",
          "name": "stdout",
          "text": [
            "3 Epoch Running | 3500 Step | Loss: 0.284 | Accuracy: 81.77\n"
          ]
        },
        {
          "output_type": "stream",
          "name": "stderr",
          "text": [
            " 80%|████████  | 843/1053 [01:57<01:02,  3.36it/s]"
          ]
        },
        {
          "output_type": "stream",
          "name": "stdout",
          "text": [
            "3 Epoch Running | 4000 Step | Loss: 0.194 | Accuracy: 81.08\n"
          ]
        },
        {
          "output_type": "stream",
          "name": "stderr",
          "text": [
            "100%|██████████| 1053/1053 [02:25<00:00,  7.22it/s]\n",
            " 28%|██▊       | 290/1053 [00:40<03:49,  3.33it/s]"
          ]
        },
        {
          "output_type": "stream",
          "name": "stdout",
          "text": [
            "4 Epoch Running | 4500 Step | Loss: 0.058 | Accuracy: 81.19\n"
          ]
        },
        {
          "output_type": "stream",
          "name": "stderr",
          "text": [
            " 75%|███████▌  | 790/1053 [01:50<01:18,  3.36it/s]"
          ]
        },
        {
          "output_type": "stream",
          "name": "stdout",
          "text": [
            "4 Epoch Running | 5000 Step | Loss: 0.071 | Accuracy: 80.73\n"
          ]
        },
        {
          "output_type": "stream",
          "name": "stderr",
          "text": [
            "100%|██████████| 1053/1053 [02:26<00:00,  7.20it/s]\n",
            " 23%|██▎       | 237/1053 [00:33<04:03,  3.35it/s]"
          ]
        },
        {
          "output_type": "stream",
          "name": "stdout",
          "text": [
            "5 Epoch Running | 5500 Step | Loss: 0.129 | Accuracy: 81.77\n"
          ]
        },
        {
          "output_type": "stream",
          "name": "stderr",
          "text": [
            " 70%|██████▉   | 737/1053 [01:43<01:35,  3.32it/s]"
          ]
        },
        {
          "output_type": "stream",
          "name": "stdout",
          "text": [
            "5 Epoch Running | 6000 Step | Loss: 0.112 | Accuracy: 82.00\n"
          ]
        },
        {
          "output_type": "stream",
          "name": "stderr",
          "text": [
            "100%|██████████| 1053/1053 [02:26<00:00,  7.17it/s]\n",
            " 17%|█▋        | 184/1053 [00:26<04:19,  3.35it/s]"
          ]
        },
        {
          "output_type": "stream",
          "name": "stdout",
          "text": [
            "6 Epoch Running | 6500 Step | Loss: 0.035 | Accuracy: 80.73\n"
          ]
        },
        {
          "output_type": "stream",
          "name": "stderr",
          "text": [
            " 65%|██████▍   | 684/1053 [01:35<01:50,  3.33it/s]"
          ]
        },
        {
          "output_type": "stream",
          "name": "stdout",
          "text": [
            "6 Epoch Running | 7000 Step | Loss: 0.062 | Accuracy: 80.96\n"
          ]
        },
        {
          "output_type": "stream",
          "name": "stderr",
          "text": [
            "100%|██████████| 1053/1053 [02:26<00:00,  7.19it/s]\n",
            " 12%|█▏        | 131/1053 [00:18<04:35,  3.35it/s]"
          ]
        },
        {
          "output_type": "stream",
          "name": "stdout",
          "text": [
            "7 Epoch Running | 7500 Step | Loss: 0.043 | Accuracy: 80.73\n"
          ]
        },
        {
          "output_type": "stream",
          "name": "stderr",
          "text": [
            " 60%|█████▉    | 631/1053 [01:28<02:05,  3.37it/s]"
          ]
        },
        {
          "output_type": "stream",
          "name": "stdout",
          "text": [
            "7 Epoch Running | 8000 Step | Loss: 0.023 | Accuracy: 81.08\n"
          ]
        },
        {
          "output_type": "stream",
          "name": "stderr",
          "text": [
            "100%|██████████| 1053/1053 [02:26<00:00,  7.20it/s]\n",
            "  7%|▋         | 78/1053 [00:11<04:57,  3.27it/s]"
          ]
        },
        {
          "output_type": "stream",
          "name": "stdout",
          "text": [
            "8 Epoch Running | 8500 Step | Loss: 0.106 | Accuracy: 81.31\n"
          ]
        },
        {
          "output_type": "stream",
          "name": "stderr",
          "text": [
            " 55%|█████▍    | 578/1053 [01:21<02:22,  3.34it/s]"
          ]
        },
        {
          "output_type": "stream",
          "name": "stdout",
          "text": [
            "8 Epoch Running | 9000 Step | Loss: 0.039 | Accuracy: 80.16\n"
          ]
        },
        {
          "output_type": "stream",
          "name": "stderr",
          "text": [
            "100%|██████████| 1053/1053 [02:26<00:00,  7.18it/s]\n",
            "  2%|▏         | 25/1053 [00:04<05:10,  3.31it/s]"
          ]
        },
        {
          "output_type": "stream",
          "name": "stdout",
          "text": [
            "9 Epoch Running | 9500 Step | Loss: 0.033 | Accuracy: 81.31\n"
          ]
        },
        {
          "output_type": "stream",
          "name": "stderr",
          "text": [
            " 50%|████▉     | 525/1053 [01:14<02:40,  3.30it/s]"
          ]
        },
        {
          "output_type": "stream",
          "name": "stdout",
          "text": [
            "9 Epoch Running | 10000 Step | Loss: 0.061 | Accuracy: 80.05\n"
          ]
        },
        {
          "output_type": "stream",
          "name": "stderr",
          "text": [
            " 97%|█████████▋| 1025/1053 [02:24<00:08,  3.35it/s]"
          ]
        },
        {
          "output_type": "stream",
          "name": "stdout",
          "text": [
            "9 Epoch Running | 10500 Step | Loss: 0.099 | Accuracy: 80.50\n"
          ]
        },
        {
          "output_type": "stream",
          "name": "stderr",
          "text": [
            "100%|██████████| 1053/1053 [02:28<00:00,  7.11it/s]\n"
          ]
        }
      ]
    },
    {
      "cell_type": "code",
      "metadata": {
        "id": "yNh-1WEdLvZJ"
      },
      "source": [
        "## hyper parameters\n",
        "#1 LR: 5e-5 | 5e-4 | Steps: 5500 | Optimizer: Adam | Batch : 32\n",
        "## Accuracy: 80.73\n",
        "\n",
        "#2 LR: 5e-5 | 5e-4 | Steps: 3000 | Optimizer: Adam | Batch : 64\n",
        "## Accuracy: 79.36\n",
        "\n",
        "#3 LR: 5e-5 | 5e-5 | Steps: 3000 | Optimizer: Adam | Batch : 64 | Smaller Linear Layer\n",
        "## Accuracy: 80.96\n",
        "\n",
        "#5 LR: 5e-5 | 5e-5 | Steps: 3000 | Optimizer: Adam | Batch : 64 | Smaller Linear Layer | Modified Pooler function\n",
        "## Accuracy: 81.08\n",
        "\n",
        "#6 LR: 5e-5 | 5e-5 | Steps: 3000 | Optimizer: Adam | Batch : 64 | Smaller Linear Layer | Modified Pooler function | Added Layer Norm\n",
        "## Accuracy: 81.88\n",
        "\n",
        "#7 LR: 5e-5 | 5e-5 | Steps: 3000 | Optimizer: Adam | Batch : 64 | Smaller Linear Layer | Modified Pooler function | Added Layer Norm | Added Scheduler\n",
        "## Accuracy: 79\n",
        "\n",
        "#8 LR: 5e-5 | 5e-5 | Steps: 3000 | Optimizer: Adam | Batch : 64 | Smaller Linear Layer | Modified Pooler function | Added Layer Norm | Added Scheduler(Step LR 2000/0.5) | Added ReLU\n",
        "## Accuracy: 82"
      ],
      "execution_count": null,
      "outputs": []
    },
    {
      "cell_type": "code",
      "metadata": {
        "id": "K8G1Q1UgA_D8"
      },
      "source": [
        ""
      ],
      "execution_count": null,
      "outputs": []
    }
  ]
}